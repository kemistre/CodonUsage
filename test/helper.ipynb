{
 "cells": [
  {
   "cell_type": "code",
   "execution_count": null,
   "metadata": {},
   "outputs": [],
   "source": [
    "def evaluate(self, y, y_predicted):\n",
    "\n",
    "  '''\n",
    "\n",
    "    Takes original classes and predicted classes as input\n",
    "\n",
    "    Return the values of precision, recall and accuracy\n",
    "    \n",
    "    '''\n",
    "\n",
    "  y = ( y==1 )\n",
    "  y_predicted = ( y_predicted == 1 )\n",
    "\n",
    "  precision = (y&y_predicted).sum() / y_predicted.sum()\n",
    "  recall = (y&y_predicted).sum() / y.sum()\n",
    "  accuracy = (y==y_predicted).sum() / y.size\n",
    "\n",
    "\n",
    "  return precision, recall, accuracy"
   ]
  }
 ],
 "metadata": {
  "kernelspec": {
   "display_name": "Python 3.9.12 ('.env': venv)",
   "language": "python",
   "name": "python3"
  },
  "language_info": {
   "name": "python",
   "version": "3.9.12"
  },
  "orig_nbformat": 4,
  "vscode": {
   "interpreter": {
    "hash": "20f3b51db45487e76e19b963685aeaff4d2f53ee3a54c0a9156da0ef575c3172"
   }
  }
 },
 "nbformat": 4,
 "nbformat_minor": 2
}
