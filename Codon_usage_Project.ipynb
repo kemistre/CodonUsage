{
 "cells": [
  {
   "cell_type": "code",
   "execution_count": 28,
   "metadata": {
    "pycharm": {
     "name": "#%%\n"
    }
   },
   "outputs": [],
   "source": [
    "import numpy as np\n",
    "import pandas as pd\n",
    "from sklearn.model_selection import train_test_split as tts\n",
    "# from sklearn.preprocessing import minmax_scale\n",
    "\n",
    "from scipy.stats import norm, gaussian_kde\n",
    "\n",
    "from imblearn.over_sampling import RandomOverSampler, SMOTE, ADASYN"
   ]
  },
  {
   "cell_type": "markdown",
   "metadata": {
    "pycharm": {
     "name": "#%% md\n"
    }
   },
   "source": [
    "# Download the date\n",
    "https://archive.ics.uci.edu/ml/machine-learning-databases/00577/codon_usage.csv.zip\n"
   ]
  },
  {
   "cell_type": "code",
   "execution_count": 29,
   "metadata": {
    "pycharm": {
     "name": "#%%\n"
    }
   },
   "outputs": [],
   "source": [
    "# !wget https://archive.ics.uci.edu/ml/machine-learning-databases/00577/codon_usage.csv.zip"
   ]
  },
  {
   "cell_type": "code",
   "execution_count": 30,
   "metadata": {
    "pycharm": {
     "name": "#%%\n"
    }
   },
   "outputs": [],
   "source": [
    "# !unzip codon_usage.csv.zip"
   ]
  },
  {
   "cell_type": "markdown",
   "metadata": {
    "pycharm": {
     "name": "#%% md\n"
    }
   },
   "source": [
    "# Data Preprocessing"
   ]
  },
  {
   "cell_type": "code",
   "execution_count": 31,
   "metadata": {
    "pycharm": {
     "name": "#%%\n"
    }
   },
   "outputs": [],
   "source": [
    "def read_data(file_name):\n",
    "    \"\"\"\n",
    "    Reads in a csv file and returns a dataframe\n",
    "    \"\"\"\n",
    "    return pd.read_csv(file_name, low_memory=False)\n",
    "\n",
    "dataset = read_data('codon_usage.csv')\n",
    "df = dataset.copy()"
   ]
  },
  {
   "cell_type": "code",
   "execution_count": 32,
   "metadata": {
    "pycharm": {
     "name": "#%%\n"
    }
   },
   "outputs": [
    {
     "data": {
      "text/html": [
       "<div>\n",
       "<style scoped>\n",
       "    .dataframe tbody tr th:only-of-type {\n",
       "        vertical-align: middle;\n",
       "    }\n",
       "\n",
       "    .dataframe tbody tr th {\n",
       "        vertical-align: top;\n",
       "    }\n",
       "\n",
       "    .dataframe thead th {\n",
       "        text-align: right;\n",
       "    }\n",
       "</style>\n",
       "<table border=\"1\" class=\"dataframe\">\n",
       "  <thead>\n",
       "    <tr style=\"text-align: right;\">\n",
       "      <th></th>\n",
       "      <th>DNAtype</th>\n",
       "      <th>SpeciesID</th>\n",
       "      <th>Ncodons</th>\n",
       "      <th>UUA</th>\n",
       "      <th>UUG</th>\n",
       "      <th>CUU</th>\n",
       "      <th>CUC</th>\n",
       "      <th>CUA</th>\n",
       "      <th>CUG</th>\n",
       "      <th>AUU</th>\n",
       "      <th>...</th>\n",
       "      <th>CGG</th>\n",
       "      <th>AGA</th>\n",
       "      <th>AGG</th>\n",
       "      <th>GAU</th>\n",
       "      <th>GAC</th>\n",
       "      <th>GAA</th>\n",
       "      <th>GAG</th>\n",
       "      <th>UAA</th>\n",
       "      <th>UAG</th>\n",
       "      <th>UGA</th>\n",
       "    </tr>\n",
       "  </thead>\n",
       "  <tbody>\n",
       "    <tr>\n",
       "      <th>count</th>\n",
       "      <td>13028.000000</td>\n",
       "      <td>13028.000000</td>\n",
       "      <td>1.302800e+04</td>\n",
       "      <td>13028.000000</td>\n",
       "      <td>13028.000000</td>\n",
       "      <td>13028.000000</td>\n",
       "      <td>13028.000000</td>\n",
       "      <td>13028.000000</td>\n",
       "      <td>13028.000000</td>\n",
       "      <td>13028.000000</td>\n",
       "      <td>...</td>\n",
       "      <td>13028.000000</td>\n",
       "      <td>13028.000000</td>\n",
       "      <td>13028.000000</td>\n",
       "      <td>13028.000000</td>\n",
       "      <td>13028.000000</td>\n",
       "      <td>13028.000000</td>\n",
       "      <td>13028.000000</td>\n",
       "      <td>13028.000000</td>\n",
       "      <td>13028.000000</td>\n",
       "      <td>13028.000000</td>\n",
       "    </tr>\n",
       "    <tr>\n",
       "      <th>mean</th>\n",
       "      <td>0.367209</td>\n",
       "      <td>130451.105926</td>\n",
       "      <td>7.960576e+04</td>\n",
       "      <td>0.020637</td>\n",
       "      <td>0.014104</td>\n",
       "      <td>0.017820</td>\n",
       "      <td>0.018288</td>\n",
       "      <td>0.019044</td>\n",
       "      <td>0.018450</td>\n",
       "      <td>0.028352</td>\n",
       "      <td>...</td>\n",
       "      <td>0.005454</td>\n",
       "      <td>0.009929</td>\n",
       "      <td>0.006422</td>\n",
       "      <td>0.024178</td>\n",
       "      <td>0.021164</td>\n",
       "      <td>0.028290</td>\n",
       "      <td>0.021683</td>\n",
       "      <td>0.001645</td>\n",
       "      <td>0.000592</td>\n",
       "      <td>0.006178</td>\n",
       "    </tr>\n",
       "    <tr>\n",
       "      <th>std</th>\n",
       "      <td>0.688726</td>\n",
       "      <td>124787.086107</td>\n",
       "      <td>7.197010e+05</td>\n",
       "      <td>0.020709</td>\n",
       "      <td>0.009280</td>\n",
       "      <td>0.010586</td>\n",
       "      <td>0.014572</td>\n",
       "      <td>0.024250</td>\n",
       "      <td>0.016578</td>\n",
       "      <td>0.017507</td>\n",
       "      <td>...</td>\n",
       "      <td>0.006605</td>\n",
       "      <td>0.008574</td>\n",
       "      <td>0.006387</td>\n",
       "      <td>0.013828</td>\n",
       "      <td>0.013041</td>\n",
       "      <td>0.014342</td>\n",
       "      <td>0.015018</td>\n",
       "      <td>0.001834</td>\n",
       "      <td>0.000907</td>\n",
       "      <td>0.010344</td>\n",
       "    </tr>\n",
       "    <tr>\n",
       "      <th>min</th>\n",
       "      <td>0.000000</td>\n",
       "      <td>7.000000</td>\n",
       "      <td>1.000000e+03</td>\n",
       "      <td>0.000000</td>\n",
       "      <td>0.000000</td>\n",
       "      <td>0.000000</td>\n",
       "      <td>0.000000</td>\n",
       "      <td>0.000000</td>\n",
       "      <td>0.000000</td>\n",
       "      <td>0.000000</td>\n",
       "      <td>...</td>\n",
       "      <td>0.000000</td>\n",
       "      <td>0.000000</td>\n",
       "      <td>0.000000</td>\n",
       "      <td>0.000000</td>\n",
       "      <td>0.000000</td>\n",
       "      <td>0.000000</td>\n",
       "      <td>0.000000</td>\n",
       "      <td>0.000000</td>\n",
       "      <td>0.000000</td>\n",
       "      <td>0.000000</td>\n",
       "    </tr>\n",
       "    <tr>\n",
       "      <th>25%</th>\n",
       "      <td>0.000000</td>\n",
       "      <td>28850.750000</td>\n",
       "      <td>1.602000e+03</td>\n",
       "      <td>0.005610</td>\n",
       "      <td>0.007108</td>\n",
       "      <td>0.010890</td>\n",
       "      <td>0.007830</td>\n",
       "      <td>0.005307</td>\n",
       "      <td>0.007180</td>\n",
       "      <td>0.016360</td>\n",
       "      <td>...</td>\n",
       "      <td>0.001220</td>\n",
       "      <td>0.001690</td>\n",
       "      <td>0.001170</td>\n",
       "      <td>0.012380</td>\n",
       "      <td>0.011860</td>\n",
       "      <td>0.017360</td>\n",
       "      <td>0.009710</td>\n",
       "      <td>0.000560</td>\n",
       "      <td>0.000000</td>\n",
       "      <td>0.000410</td>\n",
       "    </tr>\n",
       "    <tr>\n",
       "      <th>50%</th>\n",
       "      <td>0.000000</td>\n",
       "      <td>81971.500000</td>\n",
       "      <td>2.927500e+03</td>\n",
       "      <td>0.015260</td>\n",
       "      <td>0.013360</td>\n",
       "      <td>0.016130</td>\n",
       "      <td>0.014560</td>\n",
       "      <td>0.009685</td>\n",
       "      <td>0.012800</td>\n",
       "      <td>0.025475</td>\n",
       "      <td>...</td>\n",
       "      <td>0.003530</td>\n",
       "      <td>0.009270</td>\n",
       "      <td>0.004545</td>\n",
       "      <td>0.025420</td>\n",
       "      <td>0.019070</td>\n",
       "      <td>0.026085</td>\n",
       "      <td>0.020540</td>\n",
       "      <td>0.001380</td>\n",
       "      <td>0.000420</td>\n",
       "      <td>0.001130</td>\n",
       "    </tr>\n",
       "    <tr>\n",
       "      <th>75%</th>\n",
       "      <td>1.000000</td>\n",
       "      <td>222891.250000</td>\n",
       "      <td>9.120000e+03</td>\n",
       "      <td>0.029485</td>\n",
       "      <td>0.019810</td>\n",
       "      <td>0.022730</td>\n",
       "      <td>0.025112</td>\n",
       "      <td>0.017245</td>\n",
       "      <td>0.024315</td>\n",
       "      <td>0.038113</td>\n",
       "      <td>...</td>\n",
       "      <td>0.007150</td>\n",
       "      <td>0.015922</td>\n",
       "      <td>0.010250</td>\n",
       "      <td>0.034190</td>\n",
       "      <td>0.027690</td>\n",
       "      <td>0.036800</td>\n",
       "      <td>0.031122</td>\n",
       "      <td>0.002370</td>\n",
       "      <td>0.000830</td>\n",
       "      <td>0.002890</td>\n",
       "    </tr>\n",
       "    <tr>\n",
       "      <th>max</th>\n",
       "      <td>12.000000</td>\n",
       "      <td>465364.000000</td>\n",
       "      <td>4.066258e+07</td>\n",
       "      <td>0.151330</td>\n",
       "      <td>0.101190</td>\n",
       "      <td>0.089780</td>\n",
       "      <td>0.100350</td>\n",
       "      <td>0.163920</td>\n",
       "      <td>0.107370</td>\n",
       "      <td>0.154060</td>\n",
       "      <td>...</td>\n",
       "      <td>0.055540</td>\n",
       "      <td>0.098830</td>\n",
       "      <td>0.058430</td>\n",
       "      <td>0.185660</td>\n",
       "      <td>0.113840</td>\n",
       "      <td>0.144890</td>\n",
       "      <td>0.158550</td>\n",
       "      <td>0.045200</td>\n",
       "      <td>0.025610</td>\n",
       "      <td>0.106700</td>\n",
       "    </tr>\n",
       "  </tbody>\n",
       "</table>\n",
       "<p>8 rows × 65 columns</p>\n",
       "</div>"
      ],
      "text/plain": [
       "            DNAtype      SpeciesID       Ncodons           UUA           UUG  \\\n",
       "count  13028.000000   13028.000000  1.302800e+04  13028.000000  13028.000000   \n",
       "mean       0.367209  130451.105926  7.960576e+04      0.020637      0.014104   \n",
       "std        0.688726  124787.086107  7.197010e+05      0.020709      0.009280   \n",
       "min        0.000000       7.000000  1.000000e+03      0.000000      0.000000   \n",
       "25%        0.000000   28850.750000  1.602000e+03      0.005610      0.007108   \n",
       "50%        0.000000   81971.500000  2.927500e+03      0.015260      0.013360   \n",
       "75%        1.000000  222891.250000  9.120000e+03      0.029485      0.019810   \n",
       "max       12.000000  465364.000000  4.066258e+07      0.151330      0.101190   \n",
       "\n",
       "                CUU           CUC           CUA           CUG           AUU  \\\n",
       "count  13028.000000  13028.000000  13028.000000  13028.000000  13028.000000   \n",
       "mean       0.017820      0.018288      0.019044      0.018450      0.028352   \n",
       "std        0.010586      0.014572      0.024250      0.016578      0.017507   \n",
       "min        0.000000      0.000000      0.000000      0.000000      0.000000   \n",
       "25%        0.010890      0.007830      0.005307      0.007180      0.016360   \n",
       "50%        0.016130      0.014560      0.009685      0.012800      0.025475   \n",
       "75%        0.022730      0.025112      0.017245      0.024315      0.038113   \n",
       "max        0.089780      0.100350      0.163920      0.107370      0.154060   \n",
       "\n",
       "       ...           CGG           AGA           AGG           GAU  \\\n",
       "count  ...  13028.000000  13028.000000  13028.000000  13028.000000   \n",
       "mean   ...      0.005454      0.009929      0.006422      0.024178   \n",
       "std    ...      0.006605      0.008574      0.006387      0.013828   \n",
       "min    ...      0.000000      0.000000      0.000000      0.000000   \n",
       "25%    ...      0.001220      0.001690      0.001170      0.012380   \n",
       "50%    ...      0.003530      0.009270      0.004545      0.025420   \n",
       "75%    ...      0.007150      0.015922      0.010250      0.034190   \n",
       "max    ...      0.055540      0.098830      0.058430      0.185660   \n",
       "\n",
       "                GAC           GAA           GAG           UAA           UAG  \\\n",
       "count  13028.000000  13028.000000  13028.000000  13028.000000  13028.000000   \n",
       "mean       0.021164      0.028290      0.021683      0.001645      0.000592   \n",
       "std        0.013041      0.014342      0.015018      0.001834      0.000907   \n",
       "min        0.000000      0.000000      0.000000      0.000000      0.000000   \n",
       "25%        0.011860      0.017360      0.009710      0.000560      0.000000   \n",
       "50%        0.019070      0.026085      0.020540      0.001380      0.000420   \n",
       "75%        0.027690      0.036800      0.031122      0.002370      0.000830   \n",
       "max        0.113840      0.144890      0.158550      0.045200      0.025610   \n",
       "\n",
       "                UGA  \n",
       "count  13028.000000  \n",
       "mean       0.006178  \n",
       "std        0.010344  \n",
       "min        0.000000  \n",
       "25%        0.000410  \n",
       "50%        0.001130  \n",
       "75%        0.002890  \n",
       "max        0.106700  \n",
       "\n",
       "[8 rows x 65 columns]"
      ]
     },
     "execution_count": 32,
     "metadata": {},
     "output_type": "execute_result"
    }
   ],
   "source": [
    "# dataset = read_data('codon_usage.csv')\n",
    "dataset.describe()"
   ]
  },
  {
   "cell_type": "code",
   "execution_count": 33,
   "metadata": {
    "pycharm": {
     "name": "#%%\n"
    }
   },
   "outputs": [
    {
     "data": {
      "text/html": [
       "<div>\n",
       "<style scoped>\n",
       "    .dataframe tbody tr th:only-of-type {\n",
       "        vertical-align: middle;\n",
       "    }\n",
       "\n",
       "    .dataframe tbody tr th {\n",
       "        vertical-align: top;\n",
       "    }\n",
       "\n",
       "    .dataframe thead th {\n",
       "        text-align: right;\n",
       "    }\n",
       "</style>\n",
       "<table border=\"1\" class=\"dataframe\">\n",
       "  <thead>\n",
       "    <tr style=\"text-align: right;\">\n",
       "      <th></th>\n",
       "      <th>Kingdom</th>\n",
       "      <th>DNAtype</th>\n",
       "      <th>SpeciesID</th>\n",
       "      <th>Ncodons</th>\n",
       "      <th>SpeciesName</th>\n",
       "      <th>UUU</th>\n",
       "      <th>UUC</th>\n",
       "      <th>UUA</th>\n",
       "      <th>UUG</th>\n",
       "      <th>CUU</th>\n",
       "      <th>...</th>\n",
       "      <th>CGG</th>\n",
       "      <th>AGA</th>\n",
       "      <th>AGG</th>\n",
       "      <th>GAU</th>\n",
       "      <th>GAC</th>\n",
       "      <th>GAA</th>\n",
       "      <th>GAG</th>\n",
       "      <th>UAA</th>\n",
       "      <th>UAG</th>\n",
       "      <th>UGA</th>\n",
       "    </tr>\n",
       "  </thead>\n",
       "  <tbody>\n",
       "    <tr>\n",
       "      <th>0</th>\n",
       "      <td>vrl</td>\n",
       "      <td>0</td>\n",
       "      <td>100217</td>\n",
       "      <td>1995</td>\n",
       "      <td>Epizootic haematopoietic necrosis virus</td>\n",
       "      <td>0.01654</td>\n",
       "      <td>0.01203</td>\n",
       "      <td>0.00050</td>\n",
       "      <td>0.00351</td>\n",
       "      <td>0.01203</td>\n",
       "      <td>...</td>\n",
       "      <td>0.00451</td>\n",
       "      <td>0.01303</td>\n",
       "      <td>0.03559</td>\n",
       "      <td>0.01003</td>\n",
       "      <td>0.04612</td>\n",
       "      <td>0.01203</td>\n",
       "      <td>0.04361</td>\n",
       "      <td>0.00251</td>\n",
       "      <td>0.00050</td>\n",
       "      <td>0.00000</td>\n",
       "    </tr>\n",
       "    <tr>\n",
       "      <th>1</th>\n",
       "      <td>vrl</td>\n",
       "      <td>0</td>\n",
       "      <td>100220</td>\n",
       "      <td>1474</td>\n",
       "      <td>Bohle iridovirus</td>\n",
       "      <td>0.02714</td>\n",
       "      <td>0.01357</td>\n",
       "      <td>0.00068</td>\n",
       "      <td>0.00678</td>\n",
       "      <td>0.00407</td>\n",
       "      <td>...</td>\n",
       "      <td>0.00136</td>\n",
       "      <td>0.01696</td>\n",
       "      <td>0.03596</td>\n",
       "      <td>0.01221</td>\n",
       "      <td>0.04545</td>\n",
       "      <td>0.01560</td>\n",
       "      <td>0.04410</td>\n",
       "      <td>0.00271</td>\n",
       "      <td>0.00068</td>\n",
       "      <td>0.00000</td>\n",
       "    </tr>\n",
       "    <tr>\n",
       "      <th>2</th>\n",
       "      <td>vrl</td>\n",
       "      <td>0</td>\n",
       "      <td>100755</td>\n",
       "      <td>4862</td>\n",
       "      <td>Sweet potato leaf curl virus</td>\n",
       "      <td>0.01974</td>\n",
       "      <td>0.0218</td>\n",
       "      <td>0.01357</td>\n",
       "      <td>0.01543</td>\n",
       "      <td>0.00782</td>\n",
       "      <td>...</td>\n",
       "      <td>0.00596</td>\n",
       "      <td>0.01974</td>\n",
       "      <td>0.02489</td>\n",
       "      <td>0.03126</td>\n",
       "      <td>0.02036</td>\n",
       "      <td>0.02242</td>\n",
       "      <td>0.02468</td>\n",
       "      <td>0.00391</td>\n",
       "      <td>0.00000</td>\n",
       "      <td>0.00144</td>\n",
       "    </tr>\n",
       "    <tr>\n",
       "      <th>3</th>\n",
       "      <td>vrl</td>\n",
       "      <td>0</td>\n",
       "      <td>100880</td>\n",
       "      <td>1915</td>\n",
       "      <td>Northern cereal mosaic virus</td>\n",
       "      <td>0.01775</td>\n",
       "      <td>0.02245</td>\n",
       "      <td>0.01619</td>\n",
       "      <td>0.00992</td>\n",
       "      <td>0.01567</td>\n",
       "      <td>...</td>\n",
       "      <td>0.00366</td>\n",
       "      <td>0.01410</td>\n",
       "      <td>0.01671</td>\n",
       "      <td>0.03760</td>\n",
       "      <td>0.01932</td>\n",
       "      <td>0.03029</td>\n",
       "      <td>0.03446</td>\n",
       "      <td>0.00261</td>\n",
       "      <td>0.00157</td>\n",
       "      <td>0.00000</td>\n",
       "    </tr>\n",
       "    <tr>\n",
       "      <th>4</th>\n",
       "      <td>vrl</td>\n",
       "      <td>0</td>\n",
       "      <td>100887</td>\n",
       "      <td>22831</td>\n",
       "      <td>Soil-borne cereal mosaic virus</td>\n",
       "      <td>0.02816</td>\n",
       "      <td>0.01371</td>\n",
       "      <td>0.00767</td>\n",
       "      <td>0.03679</td>\n",
       "      <td>0.01380</td>\n",
       "      <td>...</td>\n",
       "      <td>0.00604</td>\n",
       "      <td>0.01494</td>\n",
       "      <td>0.01734</td>\n",
       "      <td>0.04148</td>\n",
       "      <td>0.02483</td>\n",
       "      <td>0.03359</td>\n",
       "      <td>0.03679</td>\n",
       "      <td>0.00000</td>\n",
       "      <td>0.00044</td>\n",
       "      <td>0.00131</td>\n",
       "    </tr>\n",
       "    <tr>\n",
       "      <th>...</th>\n",
       "      <td>...</td>\n",
       "      <td>...</td>\n",
       "      <td>...</td>\n",
       "      <td>...</td>\n",
       "      <td>...</td>\n",
       "      <td>...</td>\n",
       "      <td>...</td>\n",
       "      <td>...</td>\n",
       "      <td>...</td>\n",
       "      <td>...</td>\n",
       "      <td>...</td>\n",
       "      <td>...</td>\n",
       "      <td>...</td>\n",
       "      <td>...</td>\n",
       "      <td>...</td>\n",
       "      <td>...</td>\n",
       "      <td>...</td>\n",
       "      <td>...</td>\n",
       "      <td>...</td>\n",
       "      <td>...</td>\n",
       "      <td>...</td>\n",
       "    </tr>\n",
       "    <tr>\n",
       "      <th>13023</th>\n",
       "      <td>pri</td>\n",
       "      <td>0</td>\n",
       "      <td>9601</td>\n",
       "      <td>1097</td>\n",
       "      <td>Pongo pygmaeus abelii</td>\n",
       "      <td>0.02552</td>\n",
       "      <td>0.03555</td>\n",
       "      <td>0.00547</td>\n",
       "      <td>0.01367</td>\n",
       "      <td>0.01276</td>\n",
       "      <td>...</td>\n",
       "      <td>0.00820</td>\n",
       "      <td>0.01367</td>\n",
       "      <td>0.01094</td>\n",
       "      <td>0.01367</td>\n",
       "      <td>0.02279</td>\n",
       "      <td>0.02005</td>\n",
       "      <td>0.04102</td>\n",
       "      <td>0.00091</td>\n",
       "      <td>0.00091</td>\n",
       "      <td>0.00638</td>\n",
       "    </tr>\n",
       "    <tr>\n",
       "      <th>13024</th>\n",
       "      <td>pri</td>\n",
       "      <td>1</td>\n",
       "      <td>9601</td>\n",
       "      <td>2067</td>\n",
       "      <td>mitochondrion Pongo pygmaeus abelii</td>\n",
       "      <td>0.01258</td>\n",
       "      <td>0.03193</td>\n",
       "      <td>0.01984</td>\n",
       "      <td>0.00629</td>\n",
       "      <td>0.01451</td>\n",
       "      <td>...</td>\n",
       "      <td>0.00145</td>\n",
       "      <td>0.00000</td>\n",
       "      <td>0.00048</td>\n",
       "      <td>0.00194</td>\n",
       "      <td>0.01306</td>\n",
       "      <td>0.01838</td>\n",
       "      <td>0.00677</td>\n",
       "      <td>0.00242</td>\n",
       "      <td>0.00097</td>\n",
       "      <td>0.01887</td>\n",
       "    </tr>\n",
       "    <tr>\n",
       "      <th>13025</th>\n",
       "      <td>pri</td>\n",
       "      <td>1</td>\n",
       "      <td>9602</td>\n",
       "      <td>1686</td>\n",
       "      <td>mitochondrion Pongo pygmaeus pygmaeus</td>\n",
       "      <td>0.01423</td>\n",
       "      <td>0.03321</td>\n",
       "      <td>0.01661</td>\n",
       "      <td>0.00356</td>\n",
       "      <td>0.01127</td>\n",
       "      <td>...</td>\n",
       "      <td>0.00000</td>\n",
       "      <td>0.00000</td>\n",
       "      <td>0.00000</td>\n",
       "      <td>0.00178</td>\n",
       "      <td>0.01661</td>\n",
       "      <td>0.02788</td>\n",
       "      <td>0.00297</td>\n",
       "      <td>0.00356</td>\n",
       "      <td>0.00119</td>\n",
       "      <td>0.02017</td>\n",
       "    </tr>\n",
       "    <tr>\n",
       "      <th>13026</th>\n",
       "      <td>pri</td>\n",
       "      <td>0</td>\n",
       "      <td>9606</td>\n",
       "      <td>40662582</td>\n",
       "      <td>Homo sapiens</td>\n",
       "      <td>0.01757</td>\n",
       "      <td>0.02028</td>\n",
       "      <td>0.00767</td>\n",
       "      <td>0.01293</td>\n",
       "      <td>0.01319</td>\n",
       "      <td>...</td>\n",
       "      <td>0.01142</td>\n",
       "      <td>0.01217</td>\n",
       "      <td>0.01196</td>\n",
       "      <td>0.02178</td>\n",
       "      <td>0.02510</td>\n",
       "      <td>0.02896</td>\n",
       "      <td>0.03959</td>\n",
       "      <td>0.00099</td>\n",
       "      <td>0.00079</td>\n",
       "      <td>0.00156</td>\n",
       "    </tr>\n",
       "    <tr>\n",
       "      <th>13027</th>\n",
       "      <td>pri</td>\n",
       "      <td>1</td>\n",
       "      <td>9606</td>\n",
       "      <td>8998998</td>\n",
       "      <td>mitochondrion Homo sapiens</td>\n",
       "      <td>0.01778</td>\n",
       "      <td>0.03724</td>\n",
       "      <td>0.01732</td>\n",
       "      <td>0.00600</td>\n",
       "      <td>0.01689</td>\n",
       "      <td>...</td>\n",
       "      <td>0.00083</td>\n",
       "      <td>0.00041</td>\n",
       "      <td>0.00041</td>\n",
       "      <td>0.00451</td>\n",
       "      <td>0.01402</td>\n",
       "      <td>0.01651</td>\n",
       "      <td>0.00783</td>\n",
       "      <td>0.00156</td>\n",
       "      <td>0.00114</td>\n",
       "      <td>0.02161</td>\n",
       "    </tr>\n",
       "  </tbody>\n",
       "</table>\n",
       "<p>13028 rows × 69 columns</p>\n",
       "</div>"
      ],
      "text/plain": [
       "      Kingdom  DNAtype  SpeciesID   Ncodons  \\\n",
       "0         vrl        0     100217      1995   \n",
       "1         vrl        0     100220      1474   \n",
       "2         vrl        0     100755      4862   \n",
       "3         vrl        0     100880      1915   \n",
       "4         vrl        0     100887     22831   \n",
       "...       ...      ...        ...       ...   \n",
       "13023     pri        0       9601      1097   \n",
       "13024     pri        1       9601      2067   \n",
       "13025     pri        1       9602      1686   \n",
       "13026     pri        0       9606  40662582   \n",
       "13027     pri        1       9606   8998998   \n",
       "\n",
       "                                   SpeciesName      UUU      UUC      UUA  \\\n",
       "0      Epizootic haematopoietic necrosis virus  0.01654  0.01203  0.00050   \n",
       "1                             Bohle iridovirus  0.02714  0.01357  0.00068   \n",
       "2                 Sweet potato leaf curl virus  0.01974   0.0218  0.01357   \n",
       "3                 Northern cereal mosaic virus  0.01775  0.02245  0.01619   \n",
       "4               Soil-borne cereal mosaic virus  0.02816  0.01371  0.00767   \n",
       "...                                        ...      ...      ...      ...   \n",
       "13023                    Pongo pygmaeus abelii  0.02552  0.03555  0.00547   \n",
       "13024      mitochondrion Pongo pygmaeus abelii  0.01258  0.03193  0.01984   \n",
       "13025    mitochondrion Pongo pygmaeus pygmaeus  0.01423  0.03321  0.01661   \n",
       "13026                             Homo sapiens  0.01757  0.02028  0.00767   \n",
       "13027               mitochondrion Homo sapiens  0.01778  0.03724  0.01732   \n",
       "\n",
       "           UUG      CUU  ...      CGG      AGA      AGG      GAU      GAC  \\\n",
       "0      0.00351  0.01203  ...  0.00451  0.01303  0.03559  0.01003  0.04612   \n",
       "1      0.00678  0.00407  ...  0.00136  0.01696  0.03596  0.01221  0.04545   \n",
       "2      0.01543  0.00782  ...  0.00596  0.01974  0.02489  0.03126  0.02036   \n",
       "3      0.00992  0.01567  ...  0.00366  0.01410  0.01671  0.03760  0.01932   \n",
       "4      0.03679  0.01380  ...  0.00604  0.01494  0.01734  0.04148  0.02483   \n",
       "...        ...      ...  ...      ...      ...      ...      ...      ...   \n",
       "13023  0.01367  0.01276  ...  0.00820  0.01367  0.01094  0.01367  0.02279   \n",
       "13024  0.00629  0.01451  ...  0.00145  0.00000  0.00048  0.00194  0.01306   \n",
       "13025  0.00356  0.01127  ...  0.00000  0.00000  0.00000  0.00178  0.01661   \n",
       "13026  0.01293  0.01319  ...  0.01142  0.01217  0.01196  0.02178  0.02510   \n",
       "13027  0.00600  0.01689  ...  0.00083  0.00041  0.00041  0.00451  0.01402   \n",
       "\n",
       "           GAA      GAG      UAA      UAG      UGA  \n",
       "0      0.01203  0.04361  0.00251  0.00050  0.00000  \n",
       "1      0.01560  0.04410  0.00271  0.00068  0.00000  \n",
       "2      0.02242  0.02468  0.00391  0.00000  0.00144  \n",
       "3      0.03029  0.03446  0.00261  0.00157  0.00000  \n",
       "4      0.03359  0.03679  0.00000  0.00044  0.00131  \n",
       "...        ...      ...      ...      ...      ...  \n",
       "13023  0.02005  0.04102  0.00091  0.00091  0.00638  \n",
       "13024  0.01838  0.00677  0.00242  0.00097  0.01887  \n",
       "13025  0.02788  0.00297  0.00356  0.00119  0.02017  \n",
       "13026  0.02896  0.03959  0.00099  0.00079  0.00156  \n",
       "13027  0.01651  0.00783  0.00156  0.00114  0.02161  \n",
       "\n",
       "[13028 rows x 69 columns]"
      ]
     },
     "execution_count": 33,
     "metadata": {},
     "output_type": "execute_result"
    }
   ],
   "source": [
    "dataset"
   ]
  },
  {
   "cell_type": "code",
   "execution_count": 34,
   "metadata": {
    "pycharm": {
     "name": "#%%\n"
    }
   },
   "outputs": [
    {
     "data": {
      "text/plain": [
       "bct    2920\n",
       "vrl    2832\n",
       "pln    2523\n",
       "vrt    2077\n",
       "inv    1345\n",
       "mam     572\n",
       "phg     220\n",
       "rod     215\n",
       "pri     180\n",
       "arc     126\n",
       "plm      18\n",
       "Name: Kingdom, dtype: int64"
      ]
     },
     "execution_count": 34,
     "metadata": {},
     "output_type": "execute_result"
    }
   ],
   "source": [
    "# dataset.dropna(inplace=True)\n",
    "\n",
    "dataset['Kingdom'].value_counts()"
   ]
  },
  {
   "cell_type": "code",
   "execution_count": 35,
   "metadata": {
    "pycharm": {
     "name": "#%%\n"
    }
   },
   "outputs": [
    {
     "name": "stdout",
     "output_type": "stream",
     "text": [
      "Kingdom        0\n",
      "DNAtype        0\n",
      "SpeciesID      0\n",
      "Ncodons        0\n",
      "SpeciesName    0\n",
      "              ..\n",
      "GAA            0\n",
      "GAG            0\n",
      "UAA            0\n",
      "UAG            0\n",
      "UGA            0\n",
      "Length: 69, dtype: int64\n"
     ]
    }
   ],
   "source": [
    "print(dataset.isnull().sum())"
   ]
  },
  {
   "cell_type": "code",
   "execution_count": 36,
   "metadata": {
    "pycharm": {
     "name": "#%%\n"
    }
   },
   "outputs": [
    {
     "data": {
      "text/plain": [
       "<AxesSubplot:>"
      ]
     },
     "execution_count": 36,
     "metadata": {},
     "output_type": "execute_result"
    },
    {
     "data": {
      "image/png": "[encoded data removed]",
      "text/plain": [
       "<Figure size 432x288 with 1 Axes>"
      ]
     },
     "metadata": {
      "needs_background": "light"
     },
     "output_type": "display_data"
    }
   ],
   "source": [
    "dataset['Kingdom'].value_counts().plot(kind='bar')"
   ]
  },
  {
   "cell_type": "code",
   "execution_count": 37,
   "metadata": {
    "pycharm": {
     "name": "#%%\n"
    }
   },
   "outputs": [],
   "source": [
    "classes_dict = {    'arc': 0, 'bct': 1, 'phg': 2, 'plm': 3, \n",
    "                    'pln': 4, 'inv': 5, 'vrt': 6, 'mam': 7,\n",
    "                    'rod': 8, 'pri': 9, 'vrl':10\n",
    "                }"
   ]
  },
  {
   "cell_type": "code",
   "execution_count": 38,
   "metadata": {
    "pycharm": {
     "name": "#%%\n"
    }
   },
   "outputs": [],
   "source": [
    "dataset['Kingdom'] = dataset['Kingdom'].map(classes_dict)"
   ]
  },
  {
   "cell_type": "code",
   "execution_count": 39,
   "metadata": {
    "pycharm": {
     "name": "#%%\n"
    }
   },
   "outputs": [],
   "source": [
    "# dataset['Kingdom'].value_counts().plot(kind='bar')"
   ]
  },
  {
   "cell_type": "code",
   "execution_count": 40,
   "metadata": {
    "pycharm": {
     "name": "#%%\n"
    }
   },
   "outputs": [],
   "source": [
    "dataset = dataset.drop(dataset[dataset['SpeciesID']==353569].index)\n",
    "dataset = dataset.drop(dataset[dataset['SpeciesID']==12440].index)\n"
   ]
  },
  {
   "cell_type": "code",
   "execution_count": 41,
   "metadata": {
    "pycharm": {
     "name": "#%%\n"
    }
   },
   "outputs": [],
   "source": [
    "dataset['UUU'] = dataset['UUU'].astype(float)\n",
    "dataset['UUC'] = dataset['UUC'].astype(float)\n",
    "# dataset = minmax_scale(dataset)\n",
    "# cols = dataset.select_dtypes(np.number).columns\n",
    "\n",
    "# num_columns_list = list(cols)\n",
    "# # num_columns_list\n",
    "\n",
    "# num_columns_list.remove('Kingdom')\n",
    "# # num_columns_list.remove('DNAtype')\n",
    "# num_columns_list.remove('SpeciesID')\n",
    "# # num_columns_list.remove('Ncodons')\n",
    "# # num_columns_list\n",
    "\n",
    "# Removing the minmax_scale of the columns because it is not necessary it might lead to 0\n",
    "# for num_column in num_columns_list:\n",
    "#     dataset[num_column] = minmax_scale(dataset[num_column]) "
   ]
  },
  {
   "cell_type": "code",
   "execution_count": 42,
   "metadata": {
    "pycharm": {
     "name": "#%%\n"
    }
   },
   "outputs": [
    {
     "data": {
      "text/html": [
       "<div>\n",
       "<style scoped>\n",
       "    .dataframe tbody tr th:only-of-type {\n",
       "        vertical-align: middle;\n",
       "    }\n",
       "\n",
       "    .dataframe tbody tr th {\n",
       "        vertical-align: top;\n",
       "    }\n",
       "\n",
       "    .dataframe thead th {\n",
       "        text-align: right;\n",
       "    }\n",
       "</style>\n",
       "<table border=\"1\" class=\"dataframe\">\n",
       "  <thead>\n",
       "    <tr style=\"text-align: right;\">\n",
       "      <th></th>\n",
       "      <th>Kingdom</th>\n",
       "      <th>DNAtype</th>\n",
       "      <th>SpeciesID</th>\n",
       "      <th>Ncodons</th>\n",
       "      <th>SpeciesName</th>\n",
       "      <th>UUU</th>\n",
       "      <th>UUC</th>\n",
       "      <th>UUA</th>\n",
       "      <th>UUG</th>\n",
       "      <th>CUU</th>\n",
       "      <th>...</th>\n",
       "      <th>CGG</th>\n",
       "      <th>AGA</th>\n",
       "      <th>AGG</th>\n",
       "      <th>GAU</th>\n",
       "      <th>GAC</th>\n",
       "      <th>GAA</th>\n",
       "      <th>GAG</th>\n",
       "      <th>UAA</th>\n",
       "      <th>UAG</th>\n",
       "      <th>UGA</th>\n",
       "    </tr>\n",
       "  </thead>\n",
       "  <tbody>\n",
       "    <tr>\n",
       "      <th>0</th>\n",
       "      <td>10</td>\n",
       "      <td>0</td>\n",
       "      <td>100217</td>\n",
       "      <td>1995</td>\n",
       "      <td>Epizootic haematopoietic necrosis virus</td>\n",
       "      <td>0.01654</td>\n",
       "      <td>0.01203</td>\n",
       "      <td>0.00050</td>\n",
       "      <td>0.00351</td>\n",
       "      <td>0.01203</td>\n",
       "      <td>...</td>\n",
       "      <td>0.00451</td>\n",
       "      <td>0.01303</td>\n",
       "      <td>0.03559</td>\n",
       "      <td>0.01003</td>\n",
       "      <td>0.04612</td>\n",
       "      <td>0.01203</td>\n",
       "      <td>0.04361</td>\n",
       "      <td>0.00251</td>\n",
       "      <td>0.00050</td>\n",
       "      <td>0.00000</td>\n",
       "    </tr>\n",
       "    <tr>\n",
       "      <th>1</th>\n",
       "      <td>10</td>\n",
       "      <td>0</td>\n",
       "      <td>100220</td>\n",
       "      <td>1474</td>\n",
       "      <td>Bohle iridovirus</td>\n",
       "      <td>0.02714</td>\n",
       "      <td>0.01357</td>\n",
       "      <td>0.00068</td>\n",
       "      <td>0.00678</td>\n",
       "      <td>0.00407</td>\n",
       "      <td>...</td>\n",
       "      <td>0.00136</td>\n",
       "      <td>0.01696</td>\n",
       "      <td>0.03596</td>\n",
       "      <td>0.01221</td>\n",
       "      <td>0.04545</td>\n",
       "      <td>0.01560</td>\n",
       "      <td>0.04410</td>\n",
       "      <td>0.00271</td>\n",
       "      <td>0.00068</td>\n",
       "      <td>0.00000</td>\n",
       "    </tr>\n",
       "    <tr>\n",
       "      <th>2</th>\n",
       "      <td>10</td>\n",
       "      <td>0</td>\n",
       "      <td>100755</td>\n",
       "      <td>4862</td>\n",
       "      <td>Sweet potato leaf curl virus</td>\n",
       "      <td>0.01974</td>\n",
       "      <td>0.02180</td>\n",
       "      <td>0.01357</td>\n",
       "      <td>0.01543</td>\n",
       "      <td>0.00782</td>\n",
       "      <td>...</td>\n",
       "      <td>0.00596</td>\n",
       "      <td>0.01974</td>\n",
       "      <td>0.02489</td>\n",
       "      <td>0.03126</td>\n",
       "      <td>0.02036</td>\n",
       "      <td>0.02242</td>\n",
       "      <td>0.02468</td>\n",
       "      <td>0.00391</td>\n",
       "      <td>0.00000</td>\n",
       "      <td>0.00144</td>\n",
       "    </tr>\n",
       "    <tr>\n",
       "      <th>3</th>\n",
       "      <td>10</td>\n",
       "      <td>0</td>\n",
       "      <td>100880</td>\n",
       "      <td>1915</td>\n",
       "      <td>Northern cereal mosaic virus</td>\n",
       "      <td>0.01775</td>\n",
       "      <td>0.02245</td>\n",
       "      <td>0.01619</td>\n",
       "      <td>0.00992</td>\n",
       "      <td>0.01567</td>\n",
       "      <td>...</td>\n",
       "      <td>0.00366</td>\n",
       "      <td>0.01410</td>\n",
       "      <td>0.01671</td>\n",
       "      <td>0.03760</td>\n",
       "      <td>0.01932</td>\n",
       "      <td>0.03029</td>\n",
       "      <td>0.03446</td>\n",
       "      <td>0.00261</td>\n",
       "      <td>0.00157</td>\n",
       "      <td>0.00000</td>\n",
       "    </tr>\n",
       "    <tr>\n",
       "      <th>4</th>\n",
       "      <td>10</td>\n",
       "      <td>0</td>\n",
       "      <td>100887</td>\n",
       "      <td>22831</td>\n",
       "      <td>Soil-borne cereal mosaic virus</td>\n",
       "      <td>0.02816</td>\n",
       "      <td>0.01371</td>\n",
       "      <td>0.00767</td>\n",
       "      <td>0.03679</td>\n",
       "      <td>0.01380</td>\n",
       "      <td>...</td>\n",
       "      <td>0.00604</td>\n",
       "      <td>0.01494</td>\n",
       "      <td>0.01734</td>\n",
       "      <td>0.04148</td>\n",
       "      <td>0.02483</td>\n",
       "      <td>0.03359</td>\n",
       "      <td>0.03679</td>\n",
       "      <td>0.00000</td>\n",
       "      <td>0.00044</td>\n",
       "      <td>0.00131</td>\n",
       "    </tr>\n",
       "  </tbody>\n",
       "</table>\n",
       "<p>5 rows × 69 columns</p>\n",
       "</div>"
      ],
      "text/plain": [
       "   Kingdom  DNAtype  SpeciesID  Ncodons  \\\n",
       "0       10        0     100217     1995   \n",
       "1       10        0     100220     1474   \n",
       "2       10        0     100755     4862   \n",
       "3       10        0     100880     1915   \n",
       "4       10        0     100887    22831   \n",
       "\n",
       "                               SpeciesName      UUU      UUC      UUA  \\\n",
       "0  Epizootic haematopoietic necrosis virus  0.01654  0.01203  0.00050   \n",
       "1                         Bohle iridovirus  0.02714  0.01357  0.00068   \n",
       "2             Sweet potato leaf curl virus  0.01974  0.02180  0.01357   \n",
       "3             Northern cereal mosaic virus  0.01775  0.02245  0.01619   \n",
       "4           Soil-borne cereal mosaic virus  0.02816  0.01371  0.00767   \n",
       "\n",
       "       UUG      CUU  ...      CGG      AGA      AGG      GAU      GAC  \\\n",
       "0  0.00351  0.01203  ...  0.00451  0.01303  0.03559  0.01003  0.04612   \n",
       "1  0.00678  0.00407  ...  0.00136  0.01696  0.03596  0.01221  0.04545   \n",
       "2  0.01543  0.00782  ...  0.00596  0.01974  0.02489  0.03126  0.02036   \n",
       "3  0.00992  0.01567  ...  0.00366  0.01410  0.01671  0.03760  0.01932   \n",
       "4  0.03679  0.01380  ...  0.00604  0.01494  0.01734  0.04148  0.02483   \n",
       "\n",
       "       GAA      GAG      UAA      UAG      UGA  \n",
       "0  0.01203  0.04361  0.00251  0.00050  0.00000  \n",
       "1  0.01560  0.04410  0.00271  0.00068  0.00000  \n",
       "2  0.02242  0.02468  0.00391  0.00000  0.00144  \n",
       "3  0.03029  0.03446  0.00261  0.00157  0.00000  \n",
       "4  0.03359  0.03679  0.00000  0.00044  0.00131  \n",
       "\n",
       "[5 rows x 69 columns]"
      ]
     },
     "execution_count": 42,
     "metadata": {},
     "output_type": "execute_result"
    }
   ],
   "source": [
    "dataset.head()"
   ]
  },
  {
   "cell_type": "code",
   "execution_count": 43,
   "metadata": {
    "pycharm": {
     "name": "#%%\n"
    }
   },
   "outputs": [],
   "source": [
    "X = dataset.iloc[:, 1:]\n",
    "X.drop(['SpeciesName', 'SpeciesID', 'DNAtype', 'Ncodons'], axis=1, inplace=True)\n",
    "X\n",
    "X_original = X.copy()"
   ]
  },
  {
   "cell_type": "code",
   "execution_count": 44,
   "metadata": {
    "pycharm": {
     "name": "#%%\n"
    }
   },
   "outputs": [],
   "source": [
    "X = X.values.astype(float)\n",
    "y = dataset.iloc[:, 0]\n",
    "y_original = y.values.astype(int)"
   ]
  },
  {
   "cell_type": "code",
   "execution_count": 45,
   "metadata": {
    "pycharm": {
     "name": "#%%\n"
    }
   },
   "outputs": [],
   "source": [
    "class DataGenerator:\n",
    "\n",
    "    def __init__(self, X, y, sampleSize=16):\n",
    "        self.X = X\n",
    "        self.y = y\n",
    "        self.sampleSize = sampleSize\n",
    "        if self.sampleSize <= 0 and self.sampleSize > len(self.X):\n",
    "            return TypeError(\"sampleSize must be between 0 and \", len(X))\n",
    "\n",
    "    def split_data(self, test_size=0.2, random_state=1):\n",
    "        self.X_train, self.X_rem, self.y_train, self.y_rem = tts(self.X, self.y, test_size=test_size, random_state=random_state)\n",
    "        return self.X_train, self.X_rem, self.y_train, self.y_rem\n",
    "    "
   ]
  },
  {
   "cell_type": "code",
   "execution_count": 46,
   "metadata": {
    "pycharm": {
     "name": "#%%\n"
    }
   },
   "outputs": [
    {
     "data": {
      "text/plain": [
       "(13026, 64)"
      ]
     },
     "execution_count": 46,
     "metadata": {},
     "output_type": "execute_result"
    }
   ],
   "source": [
    "X.shape"
   ]
  },
  {
   "cell_type": "code",
   "execution_count": 47,
   "metadata": {
    "pycharm": {
     "name": "#%%\n"
    }
   },
   "outputs": [
    {
     "data": {
      "text/plain": [
       "(13026,)"
      ]
     },
     "execution_count": 47,
     "metadata": {},
     "output_type": "execute_result"
    }
   ],
   "source": [
    "y.shape"
   ]
  },
  {
   "cell_type": "code",
   "execution_count": 48,
   "metadata": {
    "pycharm": {
     "name": "#%%\n"
    }
   },
   "outputs": [],
   "source": [
    "data_generator = DataGenerator(y=y, X=X)\n",
    "X_training, X_testing, y_training, y_testing = data_generator.split_data()\n",
    "X_training_original = X_training.copy()\n",
    "y_training_original = y_training.copy()"
   ]
  },
  {
   "cell_type": "code",
   "execution_count": 49,
   "metadata": {
    "pycharm": {
     "name": "#%%\n"
    }
   },
   "outputs": [],
   "source": [
    "def sampler(X, y, technique):\n",
    "    if technique =='ros':\n",
    "        ros = RandomOverSampler(random_state=1)\n",
    "        X_training, y_training = ros.fit_resample(X, y)\n",
    "    \n",
    "    elif technique =='smote':\n",
    "        smoothing = SMOTE(random_state=1)\n",
    "        X_training, y_training = smoothing.fit_resample(X, y)\n",
    "    \n",
    "    elif technique =='adasyn':\n",
    "        adasyn = ADASYN(random_state=1)\n",
    "        X_training, y_training = adasyn.fit_resample(X, y)\n",
    "    \n",
    "    return X_training, y_training"
   ]
  },
  {
   "cell_type": "code",
   "execution_count": 50,
   "metadata": {},
   "outputs": [],
   "source": [
    "class MultiClassClassification:\n",
    "    def __init__(self, X_train, y_train, laplace_smoothing_value, laplace, total_classes=11, for_arc = False, for_plm = False):\n",
    "        self.laplace_smoothing_value = laplace_smoothing_value\n",
    "        self.laplace = laplace\n",
    "        self.total_classes = total_classes\n",
    "        self.X_train = X_train\n",
    "        self.y_train = y_train\n",
    "        self.for_arc = for_arc\n",
    "        self.for_plm = for_plm\n",
    "        self.fitFeatures = []\n",
    "        self.list_of_ranges = []\n",
    "        self.set_of_ranges = set([])\n",
    "\n",
    "    def fit_distribution(self, data):\n",
    "\n",
    "        # mean = np.mean(data) # mean of the data\n",
    "        # std = np.std(data) # standard deviation of the data\n",
    "        # dist = norm(mean, std) # create a normal distribution with the mean and standard deviation\n",
    "\n",
    "        # return dist\n",
    "        return gaussian_kde(data)  # return the distribution\n",
    "\n",
    "    def laplace_smoothing(self, classes, length):\n",
    "        smooths = np.empty(self.total_classes, dtype=object)\n",
    "        for i in range(length):\n",
    "            smooths[i] = (classes[i] + self.laplace_smoothing_value) / \\\n",
    "                ((classes[i].size) +\n",
    "                 self.laplace_smoothing_value * self.n_features)\n",
    "\n",
    "        return smooths\n",
    "\n",
    "    def probability(self, data):\n",
    "        py = np.ones(self.total_classes)\n",
    "\n",
    "        for i in range(self.n_features):\n",
    "            for j in range(self.total_classes):\n",
    "                py[j] *= self.features['X'+str(i)+'-'+str(j)].pdf(data[i])\n",
    "\n",
    "        for i in range(self.total_classes):\n",
    "            py[i] *= self.prior[i]\n",
    "\n",
    "        # print('while training: ', py)\n",
    "        return py\n",
    "\n",
    "    def laplace_probability(self, data):\n",
    "\n",
    "        py = np.ones(self.total_classes)\n",
    "        pdf = np.ones(self.total_classes)\n",
    "\n",
    "        for i in range(self.n_features):\n",
    "            for j in range(self.total_classes):\n",
    "                pdf[j] *= self.features['X'+str(i)+'-'+str(j)].pdf(data[i])\n",
    "\n",
    "            smooths = self.laplace_smoothing(pdf, self.total_classes)\n",
    "            for j in range(self.total_classes):\n",
    "                py[j] *= smooths[j]\n",
    "\n",
    "        for i in range(self.total_classes):\n",
    "            py[i] *= self.prior[i]\n",
    "\n",
    "        return py\n",
    "\n",
    "    def fit(self):\n",
    "\n",
    "        X_training_class = np.empty(self.total_classes, dtype=object)\n",
    "        for i in range(self.total_classes):\n",
    "            X_training_class[i] = self.X_train[self.y_train == i]\n",
    "\n",
    "        self.prior = np.zeros(self.total_classes)\n",
    "        for i in range(self.total_classes):\n",
    "            # print('setting prior', i)\n",
    "            # if self.for_arc or self.for_plm:\n",
    "            #     self.prior[i] = 1 - (len(X_training_class[i]) / len(self.X_train))\n",
    "            # else:\n",
    "            #     self.prior[i] = len(X_training_class[i]) / len(self.X_train)\n",
    "            self.prior[i] = len(X_training_class[i]) / len(self.X_train)\n",
    "\n",
    "        self.n_features = self.X_train.shape[1]\n",
    "        print('Number of features: ', self.n_features)\n",
    "        self.features = {}\n",
    "\n",
    "        for i in range(self.n_features):\n",
    "            for j in range(self.total_classes):\n",
    "                temp = 'X'+str(i)+'-'+str(j)\n",
    "                self.features[temp] = self.fit_distribution(X_training_class[j][:, i])\n",
    "                # print(str(i), str(j), temp)\n",
    "                # self.list_of_ranges.append(temp)\n",
    "                # if temp in self.set_of_ranges:\n",
    "                #     print(str(i), str(j), 'Error: ', temp, ' already exists')\n",
    "                # self.set_of_ranges.add(temp)\n",
    "\n",
    "\n",
    "    def newvaluate(self):\n",
    "        print(self.list_of_ranges)\n",
    "        print(self.set_of_ranges)\n",
    "\n",
    "    def predict(self, X_test, y_test):\n",
    "        y_predicted = []\n",
    "        \n",
    "        y = []\n",
    "        for sample, target in zip(X_test, y_test):\n",
    "\n",
    "            if self.laplace:\n",
    "                py = self.laplace_probability(sample)\n",
    "\n",
    "            else:\n",
    "                py = self.probability(sample)\n",
    "\n",
    "            # print(\"Model predicted class {} and truth was {}\".format(np.argmax(py), target))\n",
    "            # print(py)\n",
    "            # print(np.argmax(py))\n",
    "            y_predicted.append(np.argmax(py))\n",
    "            # print(py)\n",
    "            y.append(target)\n",
    "\n",
    "        y_predicted = np.array(y_predicted)\n",
    "        y = np.array(y)\n",
    "        return y_predicted, y\n"
   ]
  },
  {
   "cell_type": "code",
   "execution_count": 51,
   "metadata": {
    "pycharm": {
     "name": "#%%\n"
    }
   },
   "outputs": [],
   "source": [
    "import matplotlib.pyplot as plt\n",
    "\n",
    "\n",
    "def draw_matrix(true_positive, false_positive, false_negative, true_negative):\n",
    "    '''\n",
    "      Draw a confusion matrix.\n",
    "    '''\n",
    "    matrix = np.array([[true_positive, false_negative],\n",
    "                      [false_positive, true_negative]])\n",
    "    plt.imshow(matrix, interpolation='nearest', cmap=plt.cm.viridis_r)\n",
    "    plt.colorbar()\n",
    "    plt.show()\n",
    "\n",
    "\n",
    "def confusion_matrix_calculator(y, y_predicted, desired_class):\n",
    "    '''\n",
    "      Takes original classes and predicted classes as input\n",
    "    '''\n",
    "    print('total y', y.size)\n",
    "    print('total y_predicted', y_predicted.size)\n",
    "\n",
    "    actual = (y == desired_class)\n",
    "    predicted = (y_predicted == desired_class)\n",
    "    print('actual', actual.sum())\n",
    "    true_positive = (actual & predicted).sum()\n",
    "    false_negative = (actual & ~predicted).sum()\n",
    "    false_positive = (~actual & predicted).sum()\n",
    "    true_negative = (~actual & ~predicted).sum()\n",
    "\n",
    "    return true_positive, false_negative, false_positive, true_negative\n"
   ]
  },
  {
   "cell_type": "code",
   "execution_count": 52,
   "metadata": {},
   "outputs": [],
   "source": [
    "def validation(given_y, y_predicted, classification_class='Kingdom', desired_classes = classes_dict):\n",
    "    '''\n",
    "      Takes sampling technique as input\n",
    "\n",
    "      Returns:\n",
    "        precision, recall, accuracy\n",
    "    '''\n",
    "    for class_name in desired_classes.keys():\n",
    "        print(class_name)\n",
    "        print(dataset[dataset[classification_class] == int(\n",
    "            desired_classes.get(class_name))][classification_class].count())\n",
    "        true_positive, false_negative, false_positive, true_negative = confusion_matrix_calculator(y=given_y, y_predicted=y_predicted, desired_class=int(desired_classes.get(class_name)))\n",
    "        draw_matrix(true_positive= true_positive, true_negative= true_negative, false_positive= false_positive, false_negative= false_negative)\n",
    "        print(\"true positive:\", true_positive)\n",
    "        print(\"false negative:\", false_negative)\n",
    "        print(\"false positive:\", false_positive)\n",
    "        print(\"true negative:\", true_negative)\n",
    "        print(\"Precision:\", true_positive / (true_positive + false_positive))\n",
    "        print(\"True Positive rate or Recall:\",\n",
    "              true_positive / (true_positive + false_negative))\n",
    "        print(\"specificity, selectivity or True Negative Rate:\",\n",
    "              true_negative / (true_negative + false_positive))\n",
    "        print(\"Accuracy:\", (true_positive + true_negative) /\n",
    "              (true_positive + false_positive + false_negative + true_negative))\n",
    "        print(\"\\n\")\n"
   ]
  },
  {
   "cell_type": "code",
   "execution_count": 53,
   "metadata": {},
   "outputs": [],
   "source": [
    "def original_accuracy(y, y_predicted):\n",
    "    '''\n",
    "      Takes original classes and predicted classes as input\n",
    "    '''\n",
    "    actual = (y == y_predicted)\n",
    "    return actual.sum() / len(y)\n"
   ]
  },
  {
   "cell_type": "code",
   "execution_count": 54,
   "metadata": {},
   "outputs": [
    {
     "name": "stdout",
     "output_type": "stream",
     "text": [
      "Using Sampling Technique:  smote\n",
      "X_training shape:  (25687, 64)\n",
      "y_training shape:  (25687,)\n",
      "X_testing shape:  (2606, 64)\n",
      "y_testing shape:  (2606,)\n",
      "\n",
      "\n"
     ]
    },
    {
     "data": {
      "image/png": "[encoded data removed]",
      "text/plain": [
       "<Figure size 432x288 with 1 Axes>"
      ]
     },
     "metadata": {
      "needs_background": "light"
     },
     "output_type": "display_data"
    },
    {
     "name": "stdout",
     "output_type": "stream",
     "text": [
      "\n",
      "\n",
      "Number of features:  64\n",
      "Model is trained\n",
      "X_testing shape:  (2606, 64)\n",
      "y_testing shape:  (2606,)\n",
      "Y_predicted:  [10 10 10 ... 10  6  9]\n",
      "y_predicted shape:  (2606,)\n",
      "Y_test:  [ 5  5 10 ...  1  6  4]\n",
      "y_test shape:  (2606,)\n",
      "Original Accuracy:  0.6289332310053722\n",
      "arc\n",
      "126\n",
      "total y 2606\n",
      "total y_predicted 2606\n",
      "actual 27\n"
     ]
    },
    {
     "data": {
      "image/png": "[encoded data removed]",
      "text/plain": [
       "<Figure size 432x288 with 2 Axes>"
      ]
     },
     "metadata": {
      "needs_background": "light"
     },
     "output_type": "display_data"
    },
    {
     "name": "stdout",
     "output_type": "stream",
     "text": [
      "true positive: 18\n",
      "false negative: 9\n",
      "false positive: 21\n",
      "true negative: 2558\n",
      "Precision: 0.46153846153846156\n",
      "True Positive rate or Recall: 0.6666666666666666\n",
      "specificity, selectivity or True Negative Rate: 0.9918573090345095\n",
      "Accuracy: 0.9884881043745203\n",
      "\n",
      "\n",
      "bct\n",
      "2919\n",
      "total y 2606\n",
      "total y_predicted 2606\n",
      "actual 618\n"
     ]
    },
    {
     "data": {
      "image/png": "[encoded data removed]",
      "text/plain": [
       "<Figure size 432x288 with 2 Axes>"
      ]
     },
     "metadata": {
      "needs_background": "light"
     },
     "output_type": "display_data"
    },
    {
     "name": "stdout",
     "output_type": "stream",
     "text": [
      "true positive: 303\n",
      "false negative: 315\n",
      "false positive: 135\n",
      "true negative: 1853\n",
      "Precision: 0.6917808219178082\n",
      "True Positive rate or Recall: 0.49029126213592233\n",
      "specificity, selectivity or True Negative Rate: 0.932092555331992\n",
      "Accuracy: 0.827321565617805\n",
      "\n",
      "\n",
      "phg\n",
      "220\n",
      "total y 2606\n",
      "total y_predicted 2606\n",
      "actual 37\n"
     ]
    },
    {
     "data": {
      "image/png": "[encoded data removed]",
      "text/plain": [
       "<Figure size 432x288 with 2 Axes>"
      ]
     },
     "metadata": {
      "needs_background": "light"
     },
     "output_type": "display_data"
    },
    {
     "name": "stdout",
     "output_type": "stream",
     "text": [
      "true positive: 29\n",
      "false negative: 8\n",
      "false positive: 108\n",
      "true negative: 2461\n",
      "Precision: 0.2116788321167883\n",
      "True Positive rate or Recall: 0.7837837837837838\n",
      "specificity, selectivity or True Negative Rate: 0.9579602958349552\n",
      "Accuracy: 0.955487336914812\n",
      "\n",
      "\n",
      "plm\n",
      "18\n",
      "total y 2606\n",
      "total y_predicted 2606\n",
      "actual 2\n"
     ]
    },
    {
     "data": {
      "image/png": "[encoded data removed]",
      "text/plain": [
       "<Figure size 432x288 with 2 Axes>"
      ]
     },
     "metadata": {
      "needs_background": "light"
     },
     "output_type": "display_data"
    },
    {
     "name": "stdout",
     "output_type": "stream",
     "text": [
      "true positive: 2\n",
      "false negative: 0\n",
      "false positive: 28\n",
      "true negative: 2576\n",
      "Precision: 0.06666666666666667\n",
      "True Positive rate or Recall: 1.0\n",
      "specificity, selectivity or True Negative Rate: 0.989247311827957\n",
      "Accuracy: 0.9892555640828856\n",
      "\n",
      "\n",
      "pln\n",
      "2523\n",
      "total y 2606\n",
      "total y_predicted 2606\n",
      "actual 464\n"
     ]
    },
    {
     "data": {
      "image/png": "[encoded data removed]",
      "text/plain": [
       "<Figure size 432x288 with 2 Axes>"
      ]
     },
     "metadata": {
      "needs_background": "light"
     },
     "output_type": "display_data"
    },
    {
     "name": "stdout",
     "output_type": "stream",
     "text": [
      "true positive: 213\n",
      "false negative: 251\n",
      "false positive: 108\n",
      "true negative: 2034\n",
      "Precision: 0.6635514018691588\n",
      "True Positive rate or Recall: 0.45905172413793105\n",
      "specificity, selectivity or True Negative Rate: 0.9495798319327731\n",
      "Accuracy: 0.8622409823484267\n",
      "\n",
      "\n",
      "inv\n",
      "1345\n",
      "total y 2606\n",
      "total y_predicted 2606\n",
      "actual 298\n"
     ]
    },
    {
     "data": {
      "image/png": "[encoded data removed]",
      "text/plain": [
       "<Figure size 432x288 with 2 Axes>"
      ]
     },
     "metadata": {
      "needs_background": "light"
     },
     "output_type": "display_data"
    },
    {
     "name": "stdout",
     "output_type": "stream",
     "text": [
      "true positive: 154\n",
      "false negative: 144\n",
      "false positive: 145\n",
      "true negative: 2163\n",
      "Precision: 0.5150501672240803\n",
      "True Positive rate or Recall: 0.5167785234899329\n",
      "specificity, selectivity or True Negative Rate: 0.9371750433275563\n",
      "Accuracy: 0.8891020721412126\n",
      "\n",
      "\n",
      "vrt\n",
      "2077\n",
      "total y 2606\n",
      "total y_predicted 2606\n",
      "actual 390\n"
     ]
    },
    {
     "data": {
      "image/png": "[encoded data removed]",
      "text/plain": [
       "<Figure size 432x288 with 2 Axes>"
      ]
     },
     "metadata": {
      "needs_background": "light"
     },
     "output_type": "display_data"
    },
    {
     "name": "stdout",
     "output_type": "stream",
     "text": [
      "true positive: 274\n",
      "false negative: 116\n",
      "false positive: 14\n",
      "true negative: 2202\n",
      "Precision: 0.9513888888888888\n",
      "True Positive rate or Recall: 0.7025641025641025\n",
      "specificity, selectivity or True Negative Rate: 0.9936823104693141\n",
      "Accuracy: 0.9501151189562548\n",
      "\n",
      "\n",
      "mam\n",
      "572\n",
      "total y 2606\n",
      "total y_predicted 2606\n",
      "actual 96\n"
     ]
    },
    {
     "data": {
      "image/png": "[encoded data removed]",
      "text/plain": [
       "<Figure size 432x288 with 2 Axes>"
      ]
     },
     "metadata": {
      "needs_background": "light"
     },
     "output_type": "display_data"
    },
    {
     "name": "stdout",
     "output_type": "stream",
     "text": [
      "true positive: 73\n",
      "false negative: 23\n",
      "false positive: 37\n",
      "true negative: 2473\n",
      "Precision: 0.6636363636363637\n",
      "True Positive rate or Recall: 0.7604166666666666\n",
      "specificity, selectivity or True Negative Rate: 0.9852589641434263\n",
      "Accuracy: 0.9769762087490407\n",
      "\n",
      "\n",
      "rod\n",
      "215\n",
      "total y 2606\n",
      "total y_predicted 2606\n",
      "actual 37\n"
     ]
    },
    {
     "data": {
      "image/png": "[encoded data removed]",
      "text/plain": [
       "<Figure size 432x288 with 2 Axes>"
      ]
     },
     "metadata": {
      "needs_background": "light"
     },
     "output_type": "display_data"
    },
    {
     "name": "stdout",
     "output_type": "stream",
     "text": [
      "true positive: 24\n",
      "false negative: 13\n",
      "false positive: 5\n",
      "true negative: 2564\n",
      "Precision: 0.8275862068965517\n",
      "True Positive rate or Recall: 0.6486486486486487\n",
      "specificity, selectivity or True Negative Rate: 0.9980537173997664\n",
      "Accuracy: 0.9930928626247122\n",
      "\n",
      "\n",
      "pri\n",
      "180\n",
      "total y 2606\n",
      "total y_predicted 2606\n",
      "actual 38\n"
     ]
    },
    {
     "data": {
      "image/png": "[encoded data removed]",
      "text/plain": [
       "<Figure size 432x288 with 2 Axes>"
      ]
     },
     "metadata": {
      "needs_background": "light"
     },
     "output_type": "display_data"
    },
    {
     "name": "stdout",
     "output_type": "stream",
     "text": [
      "true positive: 29\n",
      "false negative: 9\n",
      "false positive: 46\n",
      "true negative: 2522\n",
      "Precision: 0.38666666666666666\n",
      "True Positive rate or Recall: 0.7631578947368421\n",
      "specificity, selectivity or True Negative Rate: 0.9820872274143302\n",
      "Accuracy: 0.9788948580199539\n",
      "\n",
      "\n",
      "vrl\n",
      "2831\n",
      "total y 2606\n",
      "total y_predicted 2606\n",
      "actual 599\n"
     ]
    },
    {
     "data": {
      "image/png": "[encoded data removed]",
      "text/plain": [
       "<Figure size 432x288 with 2 Axes>"
      ]
     },
     "metadata": {
      "needs_background": "light"
     },
     "output_type": "display_data"
    },
    {
     "name": "stdout",
     "output_type": "stream",
     "text": [
      "true positive: 520\n",
      "false negative: 79\n",
      "false positive: 320\n",
      "true negative: 1687\n",
      "Precision: 0.6190476190476191\n",
      "True Positive rate or Recall: 0.8681135225375626\n",
      "specificity, selectivity or True Negative Rate: 0.8405580468360737\n",
      "Accuracy: 0.8468917881811205\n",
      "\n",
      "\n"
     ]
    }
   ],
   "source": [
    "# techniques = ['smote', 'ros']\n",
    "techniques = ['smote']\n",
    "\n",
    "for technique in techniques:\n",
    "    # sampler(X, y, technique)\n",
    "    print('Using Sampling Technique: ', technique)\n",
    "    SCALLED_X_train, SCALLED_y_train = sampler(X, y ,technique=technique)\n",
    "    data_generator = DataGenerator(y=SCALLED_y_train, X=SCALLED_X_train)\n",
    "    X_train, X_test, y_train, y_test = data_generator.split_data()\n",
    "    # X_train, y_train, \n",
    "    # X_train, y_train = X_training, y_training\n",
    "    print('X_training shape: ', X_train.shape)\n",
    "    print('y_training shape: ', y_train.shape)\n",
    "    print('X_testing shape: ', X_testing.shape)\n",
    "    print('y_testing shape: ', y_testing.shape)\n",
    "\n",
    "    print('\\n')\n",
    "    y_train.value_counts().plot(kind='bar')\n",
    "    plt.show()\n",
    "    print('\\n')\n",
    "\n",
    "    clf = MultiClassClassification(X_train=X_train, y_train=y_train, total_classes=11, laplace=False, laplace_smoothing_value=0.5,  for_arc=False, for_plm=False)\n",
    "    clf.fit()\n",
    "    print('Model is trained')\n",
    "    # y_predicted, y\n",
    "    y_predicted, given_y = clf.predict(X_test=X_testing, y_test=y_testing)\n",
    "    print('X_testing shape: ', X_testing.shape)\n",
    "    print('y_testing shape: ', y_testing.shape)\n",
    "    \n",
    "    print('Y_predicted: ', y_predicted)\n",
    "    print('y_predicted shape: ', y_predicted.shape)\n",
    "    print('Y_test: ', given_y)\n",
    "    print('y_test shape: ', given_y.shape)\n",
    "    print('Original Accuracy: ', original_accuracy(given_y, y_predicted))\n",
    "    validation(given_y= given_y, y_predicted= y_predicted, desired_classes = classes_dict)\n",
    "\n",
    "\n",
    "    # 'arc': 0, 'bct': 1, 'phg': 2, 'plm': 3, \n",
    "    # clf_arc = MultiClassClassification(X_train=X_training, y_train=y_training, total_classes=11, laplace=False, laplace_smoothing_value=0.5, for_arc=True)\n",
    "    # clf_arc.fit()\n",
    "    # print('Model is trained for ARC')\n",
    "    # y_predicted, given_y = clf_arc.predict(X_test=X_testing, y_test=y_testing)\n",
    "    # print('Original Accuracy: ', original_accuracy(given_y, y_predicted))\n",
    "    # validation(given_y= given_y, y_predicted= y_predicted, desired_classes = classes_dict)\n",
    "    \n",
    "    \n",
    "    # print('for prc')\n",
    "    # clf_prc = MultiClassClassification(X_train=X_training, y_train=y_training, laplace=False, total_classes=11, laplace_smoothing_value=0.5, for_plm=True)\n",
    "    # clf_prc.fit()\n",
    "    # y_predicted, given_y = clf_prc.predict(X_test=X_testing, y_test=y_testing)\n",
    "    # print('Original Accuracy: ', original_accuracy(given_y, y_predicted))\n",
    "    # validation(given_y= given_y, y_predicted= y_predicted, desired_classes = classes_dict)\n"
   ]
  }
 ],
 "metadata": {
  "kernelspec": {
   "display_name": "Python 3.9.12 ('.env': venv)",
   "language": "python",
   "name": "python3"
  },
  "language_info": {
   "codemirror_mode": {
    "name": "ipython",
    "version": 3
   },
   "file_extension": ".py",
   "mimetype": "text/x-python",
   "name": "python",
   "nbconvert_exporter": "python",
   "pygments_lexer": "ipython3",
   "version": "3.9.12"
  },
  "orig_nbformat": 4,
  "vscode": {
   "interpreter": {
    "hash": "c0b12d0504131037a79c7de8ef4e2c50ca1bdf4415d6c44f4253512ab7f1c088"
   }
  }
 },
 "nbformat": 4,
 "nbformat_minor": 2
}
