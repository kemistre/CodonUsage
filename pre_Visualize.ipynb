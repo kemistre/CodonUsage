{
 "cells": [
  {
   "cell_type": "code",
   "execution_count": 2,
   "metadata": {},
   "outputs": [],
   "source": [
    "import pandas as pd\n",
    "import matplotlib.pyplot as plt\n",
    "import seaborn as sns\n",
    "import numpy as np\n",
    "%matplotlib inline\n",
    "from sklearn.preprocessing import minmax_scale\n"
   ]
  },
  {
   "cell_type": "code",
   "execution_count": null,
   "metadata": {},
   "outputs": [],
   "source": [
    "# !wget https://archive.ics.uci.edu/ml/machine-learning-databases/00577/codon_usage.csv.zip"
   ]
  },
  {
   "cell_type": "code",
   "execution_count": null,
   "metadata": {},
   "outputs": [],
   "source": [
    "# !unzip codon_usage.csv.zip"
   ]
  },
  {
   "cell_type": "code",
   "execution_count": 3,
   "metadata": {},
   "outputs": [],
   "source": [
    "def read_data(file_name):\n",
    "    \"\"\"\n",
    "    Reads in a csv file and returns a dataframe\n",
    "    \"\"\"\n",
    "    return pd.read_csv(file_name, low_memory=False)\n",
    "\n",
    "dataset = read_data('codon_usage.csv')"
   ]
  },
  {
   "cell_type": "code",
   "execution_count": null,
   "metadata": {},
   "outputs": [],
   "source": [
    "dataset.shape"
   ]
  },
  {
   "cell_type": "code",
   "execution_count": null,
   "metadata": {},
   "outputs": [],
   "source": [
    "dataset.info()"
   ]
  },
  {
   "cell_type": "code",
   "execution_count": null,
   "metadata": {},
   "outputs": [],
   "source": [
    "# dataset = read_data('codon_usage.csv')\n",
    "dataset.describe(include='all')"
   ]
  },
  {
   "cell_type": "code",
   "execution_count": 7,
   "metadata": {},
   "outputs": [],
   "source": [
    "dataset = dataset.drop(dataset[dataset['SpeciesID']==353569].index)"
   ]
  },
  {
   "cell_type": "code",
   "execution_count": 8,
   "metadata": {},
   "outputs": [
    {
     "data": {
      "text/html": [
       "<div>\n",
       "<style scoped>\n",
       "    .dataframe tbody tr th:only-of-type {\n",
       "        vertical-align: middle;\n",
       "    }\n",
       "\n",
       "    .dataframe tbody tr th {\n",
       "        vertical-align: top;\n",
       "    }\n",
       "\n",
       "    .dataframe thead th {\n",
       "        text-align: right;\n",
       "    }\n",
       "</style>\n",
       "<table border=\"1\" class=\"dataframe\">\n",
       "  <thead>\n",
       "    <tr style=\"text-align: right;\">\n",
       "      <th></th>\n",
       "      <th>Kingdom</th>\n",
       "      <th>DNAtype</th>\n",
       "      <th>SpeciesID</th>\n",
       "      <th>Ncodons</th>\n",
       "      <th>SpeciesName</th>\n",
       "      <th>UUU</th>\n",
       "      <th>UUC</th>\n",
       "      <th>UUA</th>\n",
       "      <th>UUG</th>\n",
       "      <th>CUU</th>\n",
       "      <th>...</th>\n",
       "      <th>CGG</th>\n",
       "      <th>AGA</th>\n",
       "      <th>AGG</th>\n",
       "      <th>GAU</th>\n",
       "      <th>GAC</th>\n",
       "      <th>GAA</th>\n",
       "      <th>GAG</th>\n",
       "      <th>UAA</th>\n",
       "      <th>UAG</th>\n",
       "      <th>UGA</th>\n",
       "    </tr>\n",
       "  </thead>\n",
       "  <tbody>\n",
       "    <tr>\n",
       "      <th>count</th>\n",
       "      <td>13027</td>\n",
       "      <td>13027.000000</td>\n",
       "      <td>13027.000000</td>\n",
       "      <td>1.302700e+04</td>\n",
       "      <td>13027</td>\n",
       "      <td>13027</td>\n",
       "      <td>13027</td>\n",
       "      <td>13027.000000</td>\n",
       "      <td>13027.000000</td>\n",
       "      <td>13027.000000</td>\n",
       "      <td>...</td>\n",
       "      <td>13027.000000</td>\n",
       "      <td>13027.000000</td>\n",
       "      <td>13027.000000</td>\n",
       "      <td>13027.000000</td>\n",
       "      <td>13027.000000</td>\n",
       "      <td>13027.000000</td>\n",
       "      <td>13027.000000</td>\n",
       "      <td>13027.000000</td>\n",
       "      <td>13027.000000</td>\n",
       "      <td>13027.000000</td>\n",
       "    </tr>\n",
       "    <tr>\n",
       "      <th>unique</th>\n",
       "      <td>11</td>\n",
       "      <td>NaN</td>\n",
       "      <td>NaN</td>\n",
       "      <td>NaN</td>\n",
       "      <td>13015</td>\n",
       "      <td>4790</td>\n",
       "      <td>4120</td>\n",
       "      <td>NaN</td>\n",
       "      <td>NaN</td>\n",
       "      <td>NaN</td>\n",
       "      <td>...</td>\n",
       "      <td>NaN</td>\n",
       "      <td>NaN</td>\n",
       "      <td>NaN</td>\n",
       "      <td>NaN</td>\n",
       "      <td>NaN</td>\n",
       "      <td>NaN</td>\n",
       "      <td>NaN</td>\n",
       "      <td>NaN</td>\n",
       "      <td>NaN</td>\n",
       "      <td>NaN</td>\n",
       "    </tr>\n",
       "    <tr>\n",
       "      <th>top</th>\n",
       "      <td>bct</td>\n",
       "      <td>NaN</td>\n",
       "      <td>NaN</td>\n",
       "      <td>NaN</td>\n",
       "      <td>Escherichia coli O157</td>\n",
       "      <td>0</td>\n",
       "      <td>0.01911</td>\n",
       "      <td>NaN</td>\n",
       "      <td>NaN</td>\n",
       "      <td>NaN</td>\n",
       "      <td>...</td>\n",
       "      <td>NaN</td>\n",
       "      <td>NaN</td>\n",
       "      <td>NaN</td>\n",
       "      <td>NaN</td>\n",
       "      <td>NaN</td>\n",
       "      <td>NaN</td>\n",
       "      <td>NaN</td>\n",
       "      <td>NaN</td>\n",
       "      <td>NaN</td>\n",
       "      <td>NaN</td>\n",
       "    </tr>\n",
       "    <tr>\n",
       "      <th>freq</th>\n",
       "      <td>2919</td>\n",
       "      <td>NaN</td>\n",
       "      <td>NaN</td>\n",
       "      <td>NaN</td>\n",
       "      <td>4</td>\n",
       "      <td>81</td>\n",
       "      <td>43</td>\n",
       "      <td>NaN</td>\n",
       "      <td>NaN</td>\n",
       "      <td>NaN</td>\n",
       "      <td>...</td>\n",
       "      <td>NaN</td>\n",
       "      <td>NaN</td>\n",
       "      <td>NaN</td>\n",
       "      <td>NaN</td>\n",
       "      <td>NaN</td>\n",
       "      <td>NaN</td>\n",
       "      <td>NaN</td>\n",
       "      <td>NaN</td>\n",
       "      <td>NaN</td>\n",
       "      <td>NaN</td>\n",
       "    </tr>\n",
       "    <tr>\n",
       "      <th>mean</th>\n",
       "      <td>NaN</td>\n",
       "      <td>0.367237</td>\n",
       "      <td>130433.978583</td>\n",
       "      <td>7.961174e+04</td>\n",
       "      <td>NaN</td>\n",
       "      <td>NaN</td>\n",
       "      <td>NaN</td>\n",
       "      <td>0.020637</td>\n",
       "      <td>0.014104</td>\n",
       "      <td>0.017821</td>\n",
       "      <td>...</td>\n",
       "      <td>0.005452</td>\n",
       "      <td>0.009929</td>\n",
       "      <td>0.006422</td>\n",
       "      <td>0.024179</td>\n",
       "      <td>0.021166</td>\n",
       "      <td>0.028290</td>\n",
       "      <td>0.021683</td>\n",
       "      <td>0.001642</td>\n",
       "      <td>0.000590</td>\n",
       "      <td>0.006178</td>\n",
       "    </tr>\n",
       "    <tr>\n",
       "      <th>std</th>\n",
       "      <td>NaN</td>\n",
       "      <td>0.688745</td>\n",
       "      <td>124776.561488</td>\n",
       "      <td>7.197283e+05</td>\n",
       "      <td>NaN</td>\n",
       "      <td>NaN</td>\n",
       "      <td>NaN</td>\n",
       "      <td>0.020710</td>\n",
       "      <td>0.009280</td>\n",
       "      <td>0.010587</td>\n",
       "      <td>...</td>\n",
       "      <td>0.006601</td>\n",
       "      <td>0.008574</td>\n",
       "      <td>0.006387</td>\n",
       "      <td>0.013827</td>\n",
       "      <td>0.013040</td>\n",
       "      <td>0.014343</td>\n",
       "      <td>0.015018</td>\n",
       "      <td>0.001794</td>\n",
       "      <td>0.000882</td>\n",
       "      <td>0.010345</td>\n",
       "    </tr>\n",
       "    <tr>\n",
       "      <th>min</th>\n",
       "      <td>NaN</td>\n",
       "      <td>0.000000</td>\n",
       "      <td>7.000000</td>\n",
       "      <td>1.000000e+03</td>\n",
       "      <td>NaN</td>\n",
       "      <td>NaN</td>\n",
       "      <td>NaN</td>\n",
       "      <td>0.000000</td>\n",
       "      <td>0.000000</td>\n",
       "      <td>0.000000</td>\n",
       "      <td>...</td>\n",
       "      <td>0.000000</td>\n",
       "      <td>0.000000</td>\n",
       "      <td>0.000000</td>\n",
       "      <td>0.000000</td>\n",
       "      <td>0.000000</td>\n",
       "      <td>0.000000</td>\n",
       "      <td>0.000000</td>\n",
       "      <td>0.000000</td>\n",
       "      <td>0.000000</td>\n",
       "      <td>0.000000</td>\n",
       "    </tr>\n",
       "    <tr>\n",
       "      <th>25%</th>\n",
       "      <td>NaN</td>\n",
       "      <td>0.000000</td>\n",
       "      <td>28850.500000</td>\n",
       "      <td>1.602000e+03</td>\n",
       "      <td>NaN</td>\n",
       "      <td>NaN</td>\n",
       "      <td>NaN</td>\n",
       "      <td>0.005610</td>\n",
       "      <td>0.007105</td>\n",
       "      <td>0.010890</td>\n",
       "      <td>...</td>\n",
       "      <td>0.001220</td>\n",
       "      <td>0.001690</td>\n",
       "      <td>0.001170</td>\n",
       "      <td>0.012385</td>\n",
       "      <td>0.011860</td>\n",
       "      <td>0.017360</td>\n",
       "      <td>0.009710</td>\n",
       "      <td>0.000560</td>\n",
       "      <td>0.000000</td>\n",
       "      <td>0.000410</td>\n",
       "    </tr>\n",
       "    <tr>\n",
       "      <th>50%</th>\n",
       "      <td>NaN</td>\n",
       "      <td>0.000000</td>\n",
       "      <td>81971.000000</td>\n",
       "      <td>2.929000e+03</td>\n",
       "      <td>NaN</td>\n",
       "      <td>NaN</td>\n",
       "      <td>NaN</td>\n",
       "      <td>0.015260</td>\n",
       "      <td>0.013360</td>\n",
       "      <td>0.016130</td>\n",
       "      <td>...</td>\n",
       "      <td>0.003530</td>\n",
       "      <td>0.009270</td>\n",
       "      <td>0.004540</td>\n",
       "      <td>0.025420</td>\n",
       "      <td>0.019070</td>\n",
       "      <td>0.026080</td>\n",
       "      <td>0.020540</td>\n",
       "      <td>0.001380</td>\n",
       "      <td>0.000420</td>\n",
       "      <td>0.001130</td>\n",
       "    </tr>\n",
       "    <tr>\n",
       "      <th>75%</th>\n",
       "      <td>NaN</td>\n",
       "      <td>1.000000</td>\n",
       "      <td>222890.000000</td>\n",
       "      <td>9.120000e+03</td>\n",
       "      <td>NaN</td>\n",
       "      <td>NaN</td>\n",
       "      <td>NaN</td>\n",
       "      <td>0.029490</td>\n",
       "      <td>0.019805</td>\n",
       "      <td>0.022730</td>\n",
       "      <td>...</td>\n",
       "      <td>0.007150</td>\n",
       "      <td>0.015925</td>\n",
       "      <td>0.010250</td>\n",
       "      <td>0.034190</td>\n",
       "      <td>0.027690</td>\n",
       "      <td>0.036800</td>\n",
       "      <td>0.031125</td>\n",
       "      <td>0.002370</td>\n",
       "      <td>0.000830</td>\n",
       "      <td>0.002890</td>\n",
       "    </tr>\n",
       "    <tr>\n",
       "      <th>max</th>\n",
       "      <td>NaN</td>\n",
       "      <td>12.000000</td>\n",
       "      <td>465364.000000</td>\n",
       "      <td>4.066258e+07</td>\n",
       "      <td>NaN</td>\n",
       "      <td>NaN</td>\n",
       "      <td>NaN</td>\n",
       "      <td>0.151330</td>\n",
       "      <td>0.101190</td>\n",
       "      <td>0.089780</td>\n",
       "      <td>...</td>\n",
       "      <td>0.055540</td>\n",
       "      <td>0.098830</td>\n",
       "      <td>0.058430</td>\n",
       "      <td>0.185660</td>\n",
       "      <td>0.113840</td>\n",
       "      <td>0.144890</td>\n",
       "      <td>0.158550</td>\n",
       "      <td>0.045200</td>\n",
       "      <td>0.025610</td>\n",
       "      <td>0.106700</td>\n",
       "    </tr>\n",
       "  </tbody>\n",
       "</table>\n",
       "<p>11 rows × 69 columns</p>\n",
       "</div>"
      ],
      "text/plain": [
       "       Kingdom       DNAtype      SpeciesID       Ncodons  \\\n",
       "count    13027  13027.000000   13027.000000  1.302700e+04   \n",
       "unique      11           NaN            NaN           NaN   \n",
       "top        bct           NaN            NaN           NaN   \n",
       "freq      2919           NaN            NaN           NaN   \n",
       "mean       NaN      0.367237  130433.978583  7.961174e+04   \n",
       "std        NaN      0.688745  124776.561488  7.197283e+05   \n",
       "min        NaN      0.000000       7.000000  1.000000e+03   \n",
       "25%        NaN      0.000000   28850.500000  1.602000e+03   \n",
       "50%        NaN      0.000000   81971.000000  2.929000e+03   \n",
       "75%        NaN      1.000000  222890.000000  9.120000e+03   \n",
       "max        NaN     12.000000  465364.000000  4.066258e+07   \n",
       "\n",
       "                  SpeciesName    UUU      UUC           UUA           UUG  \\\n",
       "count                   13027  13027    13027  13027.000000  13027.000000   \n",
       "unique                  13015   4790     4120           NaN           NaN   \n",
       "top     Escherichia coli O157      0  0.01911           NaN           NaN   \n",
       "freq                        4     81       43           NaN           NaN   \n",
       "mean                      NaN    NaN      NaN      0.020637      0.014104   \n",
       "std                       NaN    NaN      NaN      0.020710      0.009280   \n",
       "min                       NaN    NaN      NaN      0.000000      0.000000   \n",
       "25%                       NaN    NaN      NaN      0.005610      0.007105   \n",
       "50%                       NaN    NaN      NaN      0.015260      0.013360   \n",
       "75%                       NaN    NaN      NaN      0.029490      0.019805   \n",
       "max                       NaN    NaN      NaN      0.151330      0.101190   \n",
       "\n",
       "                 CUU  ...           CGG           AGA           AGG  \\\n",
       "count   13027.000000  ...  13027.000000  13027.000000  13027.000000   \n",
       "unique           NaN  ...           NaN           NaN           NaN   \n",
       "top              NaN  ...           NaN           NaN           NaN   \n",
       "freq             NaN  ...           NaN           NaN           NaN   \n",
       "mean        0.017821  ...      0.005452      0.009929      0.006422   \n",
       "std         0.010587  ...      0.006601      0.008574      0.006387   \n",
       "min         0.000000  ...      0.000000      0.000000      0.000000   \n",
       "25%         0.010890  ...      0.001220      0.001690      0.001170   \n",
       "50%         0.016130  ...      0.003530      0.009270      0.004540   \n",
       "75%         0.022730  ...      0.007150      0.015925      0.010250   \n",
       "max         0.089780  ...      0.055540      0.098830      0.058430   \n",
       "\n",
       "                 GAU           GAC           GAA           GAG           UAA  \\\n",
       "count   13027.000000  13027.000000  13027.000000  13027.000000  13027.000000   \n",
       "unique           NaN           NaN           NaN           NaN           NaN   \n",
       "top              NaN           NaN           NaN           NaN           NaN   \n",
       "freq             NaN           NaN           NaN           NaN           NaN   \n",
       "mean        0.024179      0.021166      0.028290      0.021683      0.001642   \n",
       "std         0.013827      0.013040      0.014343      0.015018      0.001794   \n",
       "min         0.000000      0.000000      0.000000      0.000000      0.000000   \n",
       "25%         0.012385      0.011860      0.017360      0.009710      0.000560   \n",
       "50%         0.025420      0.019070      0.026080      0.020540      0.001380   \n",
       "75%         0.034190      0.027690      0.036800      0.031125      0.002370   \n",
       "max         0.185660      0.113840      0.144890      0.158550      0.045200   \n",
       "\n",
       "                 UAG           UGA  \n",
       "count   13027.000000  13027.000000  \n",
       "unique           NaN           NaN  \n",
       "top              NaN           NaN  \n",
       "freq             NaN           NaN  \n",
       "mean        0.000590      0.006178  \n",
       "std         0.000882      0.010345  \n",
       "min         0.000000      0.000000  \n",
       "25%         0.000000      0.000410  \n",
       "50%         0.000420      0.001130  \n",
       "75%         0.000830      0.002890  \n",
       "max         0.025610      0.106700  \n",
       "\n",
       "[11 rows x 69 columns]"
      ]
     },
     "execution_count": 8,
     "metadata": {},
     "output_type": "execute_result"
    }
   ],
   "source": [
    "# dataset = read_data('codon_usage.csv')\n",
    "dataset.describe(include='all')"
   ]
  },
  {
   "cell_type": "code",
   "execution_count": 9,
   "metadata": {},
   "outputs": [
    {
     "data": {
      "text/plain": [
       "Kingdom        0\n",
       "DNAtype        0\n",
       "SpeciesID      0\n",
       "Ncodons        0\n",
       "SpeciesName    0\n",
       "              ..\n",
       "GAA            0\n",
       "GAG            0\n",
       "UAA            0\n",
       "UAG            0\n",
       "UGA            0\n",
       "Length: 69, dtype: int64"
      ]
     },
     "execution_count": 9,
     "metadata": {},
     "output_type": "execute_result"
    }
   ],
   "source": [
    "dataset.isnull().sum()"
   ]
  },
  {
   "cell_type": "code",
   "execution_count": 15,
   "metadata": {},
   "outputs": [
    {
     "name": "stdout",
     "output_type": "stream",
     "text": [
      "['vrl' 'arc' 'bct' 'phg' 'plm' 'pln' 'inv' 'vrt' 'mam' 'rod' 'pri']\n"
     ]
    },
    {
     "data": {
      "text/plain": [
       "11"
      ]
     },
     "execution_count": 15,
     "metadata": {},
     "output_type": "execute_result"
    }
   ],
   "source": [
    "print(dataset.Kingdom.unique())\n",
    "len(dataset.Kingdom.unique())"
   ]
  },
  {
   "cell_type": "code",
   "execution_count": null,
   "metadata": {},
   "outputs": [],
   "source": [
    "dataset"
   ]
  },
  {
   "cell_type": "code",
   "execution_count": 17,
   "metadata": {},
   "outputs": [
    {
     "data": {
      "text/plain": [
       "bct    2919\n",
       "vrl    2832\n",
       "pln    2523\n",
       "vrt    2077\n",
       "inv    1345\n",
       "mam     572\n",
       "phg     220\n",
       "rod     215\n",
       "pri     180\n",
       "arc     126\n",
       "plm      18\n",
       "Name: Kingdom, dtype: int64"
      ]
     },
     "execution_count": 17,
     "metadata": {},
     "output_type": "execute_result"
    }
   ],
   "source": [
    "# dataset.dropna(inplace=True)\n",
    "\n",
    "dataset['Kingdom'].value_counts()\n"
   ]
  },
  {
   "cell_type": "code",
   "execution_count": null,
   "metadata": {},
   "outputs": [],
   "source": [
    "print(dataset.isnull().sum())"
   ]
  },
  {
   "cell_type": "code",
   "execution_count": null,
   "metadata": {},
   "outputs": [],
   "source": [
    "dataset['Kingdom'].unique()"
   ]
  },
  {
   "cell_type": "code",
   "execution_count": null,
   "metadata": {},
   "outputs": [],
   "source": [
    "dataset"
   ]
  },
  {
   "cell_type": "code",
   "execution_count": null,
   "metadata": {},
   "outputs": [],
   "source": [
    "dataset['UUU'] = dataset['UUU'].astype(float)\n",
    "dataset['UUC'] = dataset['UUC'].astype(float)\n",
    "\n",
    "cols = dataset.select_dtypes(np.number).columns\n",
    "\n",
    "num_columns_list = list(cols)\n",
    "# num_columns_list\n",
    "\n",
    "# num_columns_list.remove('Kingdom')\n",
    "num_columns_list.remove('DNAtype')\n",
    "num_columns_list.remove('SpeciesID')\n",
    "num_columns_list.remove('Ncodons')\n",
    "\n",
    "for num_column in num_columns_list:\n",
    "    dataset[num_column] = minmax_scale(dataset[num_column])\n",
    "    # df['a'] = minmax_scale(df['a'])"
   ]
  },
  {
   "cell_type": "code",
   "execution_count": null,
   "metadata": {},
   "outputs": [],
   "source": [
    "species_kingdoms = dataset['Kingdom'].unique()"
   ]
  },
  {
   "cell_type": "code",
   "execution_count": null,
   "metadata": {},
   "outputs": [],
   "source": [
    "features = dataset.columns[5:].values"
   ]
  },
  {
   "cell_type": "code",
   "execution_count": null,
   "metadata": {},
   "outputs": [],
   "source": [
    "features"
   ]
  },
  {
   "cell_type": "code",
   "execution_count": null,
   "metadata": {},
   "outputs": [],
   "source": [
    "def hist_plot(feature,  classes='Kingdom'):\n",
    "    \"\"\"\n",
    "    Plots a histogram of a feature\n",
    "    \"\"\"\n",
    "    sns.displot(data=dataset, x=feature, hue=classes)\n",
    "    plt.title(feature)\n",
    "    plt.show()\n",
    "    \n",
    "\n",
    "\n",
    "def boxplot_plot(feature, classes='Kingdom', axes=None):\n",
    "    \"\"\"\n",
    "    Plots a boxplot of a feature\n",
    "    \"\"\"\n",
    "    sns.boxplot(x=classes, y=feature, data=dataset, ax=axes)\n",
    "    plt.title(feature)\n",
    "    plt.show()"
   ]
  },
  {
   "cell_type": "code",
   "execution_count": null,
   "metadata": {},
   "outputs": [],
   "source": [
    "# anomaly_lister = ['UUU','UUC']\n",
    "anomaly_lister = []\n",
    "for feature in features:\n",
    "    hist_plot(feature, classes='Kingdom_Class')\n",
    "    if feature not in anomaly_lister:\n",
    "        print(feature)\n",
    "        boxplot_plot(feature, classes='Kingdom_Class')"
   ]
  },
  {
   "cell_type": "code",
   "execution_count": null,
   "metadata": {},
   "outputs": [],
   "source": [
    "plt.figure(figsize=[100,80])\n",
    "sns.heatmap(dataset.corr(), annot=True, cmap = 'viridis_r', fmt = '.2f')\n",
    "plt.savefig('heatmap.pdf') "
   ]
  },
  {
   "cell_type": "code",
   "execution_count": null,
   "metadata": {},
   "outputs": [],
   "source": [
    "dataset['Kingdom_Class'] = dataset['Kingdom'].map({   'arc': 0, 'bct': 0, \n",
    "                                                'phg': 0, 'plm': 0, 'vrl':0, \n",
    "                                                'pln': 1, 'inv': 1, \n",
    "                                                'vrt': 1, 'mam': 1,\n",
    "                                                'rod': 1, 'pri': 1})"
   ]
  },
  {
   "cell_type": "code",
   "execution_count": null,
   "metadata": {},
   "outputs": [],
   "source": [
    "# anomaly_lister = ['UUU','UUC']\n",
    "anomaly_lister = []\n",
    "for feature in features:\n",
    "    hist_plot(feature, classes='Kingdom_Class')\n",
    "    if feature not in anomaly_lister:\n",
    "        print(feature)\n",
    "        boxplot_plot(feature, classes='Kingdom_Class')"
   ]
  },
  {
   "cell_type": "code",
   "execution_count": null,
   "metadata": {},
   "outputs": [],
   "source": [
    "plt.figure(figsize=[100,80])\n",
    "sns.heatmap(dataset.corr(), annot=True, cmap = 'viridis_r', fmt = '.2f')\n",
    "plt.savefig('heatmap.pdf') "
   ]
  }
 ],
 "metadata": {
  "kernelspec": {
   "display_name": "Python 3.9.12 ('.env': venv)",
   "language": "python",
   "name": "python3"
  },
  "language_info": {
   "codemirror_mode": {
    "name": "ipython",
    "version": 3
   },
   "file_extension": ".py",
   "mimetype": "text/x-python",
   "name": "python",
   "nbconvert_exporter": "python",
   "pygments_lexer": "ipython3",
   "version": "3.9.12"
  },
  "orig_nbformat": 4,
  "vscode": {
   "interpreter": {
    "hash": "20f3b51db45487e76e19b963685aeaff4d2f53ee3a54c0a9156da0ef575c3172"
   }
  }
 },
 "nbformat": 4,
 "nbformat_minor": 2
}
